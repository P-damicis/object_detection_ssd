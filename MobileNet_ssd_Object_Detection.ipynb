{
  "nbformat": 4,
  "nbformat_minor": 0,
  "metadata": {
    "accelerator": "GPU",
    "colab": {
      "name": "MobileNet_ssd_Object_Detection.ipynb",
      "provenance": [],
      "collapsed_sections": [],
      "machine_shape": "hm"
    },
    "kernelspec": {
      "display_name": "Python 3",
      "name": "python3"
    }
  },
  "cells": [
    {
      "cell_type": "markdown",
      "metadata": {
        "id": "fCAFHcAz1vh9"
      },
      "source": [
        "#**Sistemi Digitali M 2020/21 - UNIBO** \n",
        "##by Pier Domenico d'Amicis"
      ]
    },
    {
      "cell_type": "code",
      "metadata": {
        "colab": {
          "base_uri": "https://localhost:8080/"
        },
        "id": "EtzbD7bGIZYF",
        "outputId": "2326bd81-cc82-4029-b9e5-12dbf6f0f224"
      },
      "source": [
        "%tensorflow_version 1.x"
      ],
      "execution_count": null,
      "outputs": [
        {
          "output_type": "stream",
          "text": [
            "TensorFlow 1.x selected.\n"
          ],
          "name": "stdout"
        }
      ]
    },
    {
      "cell_type": "markdown",
      "metadata": {
        "id": "xe0B5UXuhZWa"
      },
      "source": [
        "For the code cell below you should see ‘Found GPU’ and tf version 1.x.\n",
        "Remember to change runtime to GPU"
      ]
    },
    {
      "cell_type": "code",
      "metadata": {
        "colab": {
          "base_uri": "https://localhost:8080/"
        },
        "id": "K5blGTazUTft",
        "outputId": "088220c3-39e8-4deb-831e-58a077303c3e"
      },
      "source": [
        "import tensorflow as tf\n",
        "device_name = tf.test.gpu_device_name()\n",
        "if device_name != '/device:GPU:0':\n",
        "   raise SystemError('GPU device not found')\n",
        "print('Found GPU at: {}'.format(device_name))\n",
        "print(tf.__version__)"
      ],
      "execution_count": null,
      "outputs": [
        {
          "output_type": "stream",
          "text": [
            "Found GPU at: /device:GPU:0\n",
            "1.15.2\n"
          ],
          "name": "stdout"
        }
      ]
    },
    {
      "cell_type": "markdown",
      "metadata": {
        "id": "G2mRk4Mbiwgs"
      },
      "source": [
        "Clone the Tensorflow API repo"
      ]
    },
    {
      "cell_type": "code",
      "metadata": {
        "colab": {
          "base_uri": "https://localhost:8080/"
        },
        "id": "hVZekwLaVXEq",
        "outputId": "1b0587b9-a3a7-4cca-8a59-7021c82ede13"
      },
      "source": [
        "!git clone https://github.com/tensorflow/models.git"
      ],
      "execution_count": null,
      "outputs": [
        {
          "output_type": "stream",
          "text": [
            "Cloning into 'models'...\n",
            "remote: Enumerating objects: 1211, done.\u001b[K\n",
            "remote: Counting objects: 100% (1211/1211), done.\u001b[K\n",
            "remote: Compressing objects: 100% (675/675), done.\u001b[K\n",
            "remote: Total 55883 (delta 731), reused 957 (delta 522), pack-reused 54672\u001b[K\n",
            "Receiving objects: 100% (55883/55883), 572.23 MiB | 15.82 MiB/s, done.\n",
            "Resolving deltas: 100% (38340/38340), done.\n"
          ],
          "name": "stdout"
        }
      ]
    },
    {
      "cell_type": "markdown",
      "metadata": {
        "id": "Dro4CRIRi72C"
      },
      "source": [
        "Install some needed tools and dependencies."
      ]
    },
    {
      "cell_type": "code",
      "metadata": {
        "colab": {
          "base_uri": "https://localhost:8080/"
        },
        "id": "OYQtd7VnwPsj",
        "outputId": "2ff17fa8-a705-42b9-a9f5-e82e585249e7"
      },
      "source": [
        "%cd \"/content/models/research\"\n",
        "!mv object_detection/ /content/\n",
        "!mv slim/ /content/\n",
        "%cd \"/content\"\n",
        "%rm -rf models"
      ],
      "execution_count": null,
      "outputs": [
        {
          "output_type": "stream",
          "text": [
            "/content/models/research\n",
            "/content\n"
          ],
          "name": "stdout"
        }
      ]
    },
    {
      "cell_type": "code",
      "metadata": {
        "colab": {
          "base_uri": "https://localhost:8080/"
        },
        "id": "0zmVdivOVW8x",
        "outputId": "8c296228-b934-450f-f8a4-0afe70720bc3"
      },
      "source": [
        "!apt-get install protobuf-compiler python-pil python-lxml python-tk\n",
        "!pip install Cython"
      ],
      "execution_count": null,
      "outputs": [
        {
          "output_type": "stream",
          "text": [
            "Reading package lists... Done\n",
            "Building dependency tree       \n",
            "Reading state information... Done\n",
            "protobuf-compiler is already the newest version (3.0.0-9.1ubuntu1).\n",
            "python-tk is already the newest version (2.7.17-1~18.04).\n",
            "The following additional packages will be installed:\n",
            "  python-bs4 python-chardet python-html5lib python-olefile\n",
            "  python-pkg-resources python-six python-webencodings\n",
            "Suggested packages:\n",
            "  python-genshi python-lxml-dbg python-lxml-doc python-pil-doc python-pil-dbg\n",
            "  python-setuptools\n",
            "The following NEW packages will be installed:\n",
            "  python-bs4 python-chardet python-html5lib python-lxml python-olefile\n",
            "  python-pil python-pkg-resources python-six python-webencodings\n",
            "0 upgraded, 9 newly installed, 0 to remove and 31 not upgraded.\n",
            "Need to get 1,614 kB of archives.\n",
            "After this operation, 8,907 kB of additional disk space will be used.\n",
            "Get:1 http://archive.ubuntu.com/ubuntu bionic/main amd64 python-bs4 all 4.6.0-1 [67.9 kB]\n",
            "Get:2 http://archive.ubuntu.com/ubuntu bionic/main amd64 python-pkg-resources all 39.0.1-2 [128 kB]\n",
            "Get:3 http://archive.ubuntu.com/ubuntu bionic/main amd64 python-chardet all 3.0.4-1 [80.3 kB]\n",
            "Get:4 http://archive.ubuntu.com/ubuntu bionic/main amd64 python-six all 1.11.0-2 [11.3 kB]\n",
            "Get:5 http://archive.ubuntu.com/ubuntu bionic/main amd64 python-webencodings all 0.5-2 [10.3 kB]\n",
            "Get:6 http://archive.ubuntu.com/ubuntu bionic/main amd64 python-html5lib all 0.999999999-1 [83.6 kB]\n",
            "Get:7 http://archive.ubuntu.com/ubuntu bionic-updates/main amd64 python-lxml amd64 4.2.1-1ubuntu0.4 [897 kB]\n",
            "Get:8 http://archive.ubuntu.com/ubuntu bionic/main amd64 python-olefile all 0.45.1-1 [33.2 kB]\n",
            "Get:9 http://archive.ubuntu.com/ubuntu bionic-updates/main amd64 python-pil amd64 5.1.0-1ubuntu0.5 [302 kB]\n",
            "Fetched 1,614 kB in 2s (659 kB/s)\n",
            "Selecting previously unselected package python-bs4.\n",
            "(Reading database ... 160983 files and directories currently installed.)\n",
            "Preparing to unpack .../0-python-bs4_4.6.0-1_all.deb ...\n",
            "Unpacking python-bs4 (4.6.0-1) ...\n",
            "Selecting previously unselected package python-pkg-resources.\n",
            "Preparing to unpack .../1-python-pkg-resources_39.0.1-2_all.deb ...\n",
            "Unpacking python-pkg-resources (39.0.1-2) ...\n",
            "Selecting previously unselected package python-chardet.\n",
            "Preparing to unpack .../2-python-chardet_3.0.4-1_all.deb ...\n",
            "Unpacking python-chardet (3.0.4-1) ...\n",
            "Selecting previously unselected package python-six.\n",
            "Preparing to unpack .../3-python-six_1.11.0-2_all.deb ...\n",
            "Unpacking python-six (1.11.0-2) ...\n",
            "Selecting previously unselected package python-webencodings.\n",
            "Preparing to unpack .../4-python-webencodings_0.5-2_all.deb ...\n",
            "Unpacking python-webencodings (0.5-2) ...\n",
            "Selecting previously unselected package python-html5lib.\n",
            "Preparing to unpack .../5-python-html5lib_0.999999999-1_all.deb ...\n",
            "Unpacking python-html5lib (0.999999999-1) ...\n",
            "Selecting previously unselected package python-lxml:amd64.\n",
            "Preparing to unpack .../6-python-lxml_4.2.1-1ubuntu0.4_amd64.deb ...\n",
            "Unpacking python-lxml:amd64 (4.2.1-1ubuntu0.4) ...\n",
            "Selecting previously unselected package python-olefile.\n",
            "Preparing to unpack .../7-python-olefile_0.45.1-1_all.deb ...\n",
            "Unpacking python-olefile (0.45.1-1) ...\n",
            "Selecting previously unselected package python-pil:amd64.\n",
            "Preparing to unpack .../8-python-pil_5.1.0-1ubuntu0.5_amd64.deb ...\n",
            "Unpacking python-pil:amd64 (5.1.0-1ubuntu0.5) ...\n",
            "Setting up python-pkg-resources (39.0.1-2) ...\n",
            "Setting up python-six (1.11.0-2) ...\n",
            "Setting up python-bs4 (4.6.0-1) ...\n",
            "Setting up python-lxml:amd64 (4.2.1-1ubuntu0.4) ...\n",
            "Setting up python-olefile (0.45.1-1) ...\n",
            "Setting up python-pil:amd64 (5.1.0-1ubuntu0.5) ...\n",
            "Setting up python-webencodings (0.5-2) ...\n",
            "Setting up python-chardet (3.0.4-1) ...\n",
            "Setting up python-html5lib (0.999999999-1) ...\n",
            "Processing triggers for man-db (2.8.3-2ubuntu0.1) ...\n",
            "Requirement already satisfied: Cython in /usr/local/lib/python3.7/dist-packages (0.29.22)\n"
          ],
          "name": "stdout"
        }
      ]
    },
    {
      "cell_type": "code",
      "metadata": {
        "colab": {
          "base_uri": "https://localhost:8080/"
        },
        "id": "fgshHq3dVW2J",
        "outputId": "14892e89-1fe2-4120-855b-a682591bbc73"
      },
      "source": [
        "%cd /content/\n",
        "!protoc object_detection/protos/*.proto --python_out=."
      ],
      "execution_count": null,
      "outputs": [
        {
          "output_type": "stream",
          "text": [
            "/content\n"
          ],
          "name": "stdout"
        }
      ]
    },
    {
      "cell_type": "code",
      "metadata": {
        "colab": {
          "base_uri": "https://localhost:8080/"
        },
        "id": "ZMlRrzpVVWys",
        "outputId": "39ecd13c-abb2-42e2-d292-6af92bc376b8"
      },
      "source": [
        "import os\n",
        "os.environ['PYTHONPATH'] += ':/content/:/content/slim'\n",
        "%cd /content/slim"
      ],
      "execution_count": null,
      "outputs": [
        {
          "output_type": "stream",
          "text": [
            "/content/slim\n"
          ],
          "name": "stdout"
        }
      ]
    },
    {
      "cell_type": "markdown",
      "metadata": {
        "id": "HQlUBRt2i-z8"
      },
      "source": [
        "Always run the cell below for every session restart"
      ]
    },
    {
      "cell_type": "code",
      "metadata": {
        "id": "uSTazdeuVWb0",
        "colab": {
          "base_uri": "https://localhost:8080/"
        },
        "outputId": "725471f7-878b-48ed-b05e-04749a7d647a"
      },
      "source": [
        "!python setup.py build\n",
        "!python setup.py install"
      ],
      "execution_count": null,
      "outputs": [
        {
          "output_type": "stream",
          "text": [
            "running build\n",
            "running build_py\n",
            "creating build\n",
            "creating build/lib\n",
            "creating build/lib/deployment\n",
            "copying deployment/model_deploy_test.py -> build/lib/deployment\n",
            "copying deployment/__init__.py -> build/lib/deployment\n",
            "copying deployment/model_deploy.py -> build/lib/deployment\n",
            "creating build/lib/nets\n",
            "copying nets/post_training_quantization.py -> build/lib/nets\n",
            "copying nets/inception_v4_test.py -> build/lib/nets\n",
            "copying nets/overfeat.py -> build/lib/nets\n",
            "copying nets/mobilenet_v1_eval.py -> build/lib/nets\n",
            "copying nets/mobilenet_v1_test.py -> build/lib/nets\n",
            "copying nets/inception_v1.py -> build/lib/nets\n",
            "copying nets/dcgan.py -> build/lib/nets\n",
            "copying nets/resnet_v2.py -> build/lib/nets\n",
            "copying nets/mobilenet_v1.py -> build/lib/nets\n",
            "copying nets/inception.py -> build/lib/nets\n",
            "copying nets/inception_v2.py -> build/lib/nets\n",
            "copying nets/i3d.py -> build/lib/nets\n",
            "copying nets/__init__.py -> build/lib/nets\n",
            "copying nets/resnet_v2_test.py -> build/lib/nets\n",
            "copying nets/inception_v4.py -> build/lib/nets\n",
            "copying nets/dcgan_test.py -> build/lib/nets\n",
            "copying nets/alexnet_test.py -> build/lib/nets\n",
            "copying nets/inception_v3.py -> build/lib/nets\n",
            "copying nets/s3dg.py -> build/lib/nets\n",
            "copying nets/lenet.py -> build/lib/nets\n",
            "copying nets/pix2pix_test.py -> build/lib/nets\n",
            "copying nets/pix2pix.py -> build/lib/nets\n",
            "copying nets/alexnet.py -> build/lib/nets\n",
            "copying nets/inception_resnet_v2.py -> build/lib/nets\n",
            "copying nets/cyclegan_test.py -> build/lib/nets\n",
            "copying nets/nets_factory_test.py -> build/lib/nets\n",
            "copying nets/resnet_v1.py -> build/lib/nets\n",
            "copying nets/overfeat_test.py -> build/lib/nets\n",
            "copying nets/resnet_utils.py -> build/lib/nets\n",
            "copying nets/nets_factory.py -> build/lib/nets\n",
            "copying nets/vgg_test.py -> build/lib/nets\n",
            "copying nets/inception_v3_test.py -> build/lib/nets\n",
            "copying nets/cyclegan.py -> build/lib/nets\n",
            "copying nets/cifarnet.py -> build/lib/nets\n",
            "copying nets/inception_v1_test.py -> build/lib/nets\n",
            "copying nets/resnet_v1_test.py -> build/lib/nets\n",
            "copying nets/i3d_test.py -> build/lib/nets\n",
            "copying nets/inception_resnet_v2_test.py -> build/lib/nets\n",
            "copying nets/mobilenet_v1_train.py -> build/lib/nets\n",
            "copying nets/i3d_utils.py -> build/lib/nets\n",
            "copying nets/s3dg_test.py -> build/lib/nets\n",
            "copying nets/vgg.py -> build/lib/nets\n",
            "copying nets/inception_v2_test.py -> build/lib/nets\n",
            "copying nets/inception_utils.py -> build/lib/nets\n",
            "creating build/lib/preprocessing\n",
            "copying preprocessing/lenet_preprocessing.py -> build/lib/preprocessing\n",
            "copying preprocessing/__init__.py -> build/lib/preprocessing\n",
            "copying preprocessing/inception_preprocessing.py -> build/lib/preprocessing\n",
            "copying preprocessing/vgg_preprocessing.py -> build/lib/preprocessing\n",
            "copying preprocessing/preprocessing_factory.py -> build/lib/preprocessing\n",
            "copying preprocessing/cifarnet_preprocessing.py -> build/lib/preprocessing\n",
            "creating build/lib/datasets\n",
            "copying datasets/flowers.py -> build/lib/datasets\n",
            "copying datasets/process_bounding_boxes.py -> build/lib/datasets\n",
            "copying datasets/download_and_convert_visualwakewords_lib.py -> build/lib/datasets\n",
            "copying datasets/preprocess_imagenet_validation_data.py -> build/lib/datasets\n",
            "copying datasets/__init__.py -> build/lib/datasets\n",
            "copying datasets/cifar10.py -> build/lib/datasets\n",
            "copying datasets/download_and_convert_visualwakewords.py -> build/lib/datasets\n",
            "copying datasets/download_and_convert_flowers.py -> build/lib/datasets\n",
            "copying datasets/download_and_convert_cifar10.py -> build/lib/datasets\n",
            "copying datasets/build_imagenet_data.py -> build/lib/datasets\n",
            "copying datasets/dataset_utils.py -> build/lib/datasets\n",
            "copying datasets/download_and_convert_mnist.py -> build/lib/datasets\n",
            "copying datasets/mnist.py -> build/lib/datasets\n",
            "copying datasets/visualwakewords.py -> build/lib/datasets\n",
            "copying datasets/imagenet.py -> build/lib/datasets\n",
            "copying datasets/dataset_factory.py -> build/lib/datasets\n",
            "creating build/lib/nets/nasnet\n",
            "copying nets/nasnet/nasnet_utils_test.py -> build/lib/nets/nasnet\n",
            "copying nets/nasnet/__init__.py -> build/lib/nets/nasnet\n",
            "copying nets/nasnet/nasnet.py -> build/lib/nets/nasnet\n",
            "copying nets/nasnet/nasnet_test.py -> build/lib/nets/nasnet\n",
            "copying nets/nasnet/nasnet_utils.py -> build/lib/nets/nasnet\n",
            "copying nets/nasnet/pnasnet_test.py -> build/lib/nets/nasnet\n",
            "copying nets/nasnet/pnasnet.py -> build/lib/nets/nasnet\n",
            "creating build/lib/nets/mobilenet\n",
            "copying nets/mobilenet/mobilenet_v3.py -> build/lib/nets/mobilenet\n",
            "copying nets/mobilenet/mobilenet_v3_test.py -> build/lib/nets/mobilenet\n",
            "copying nets/mobilenet/mobilenet.py -> build/lib/nets/mobilenet\n",
            "copying nets/mobilenet/__init__.py -> build/lib/nets/mobilenet\n",
            "copying nets/mobilenet/mobilenet_v2_test.py -> build/lib/nets/mobilenet\n",
            "copying nets/mobilenet/mobilenet_v2.py -> build/lib/nets/mobilenet\n",
            "copying nets/mobilenet/conv_blocks.py -> build/lib/nets/mobilenet\n",
            "running egg_info\n",
            "creating slim.egg-info\n",
            "writing slim.egg-info/PKG-INFO\n",
            "writing dependency_links to slim.egg-info/dependency_links.txt\n",
            "writing requirements to slim.egg-info/requires.txt\n",
            "writing top-level names to slim.egg-info/top_level.txt\n",
            "writing manifest file 'slim.egg-info/SOURCES.txt'\n",
            "reading manifest file 'slim.egg-info/SOURCES.txt'\n",
            "writing manifest file 'slim.egg-info/SOURCES.txt'\n",
            "running install\n",
            "running bdist_egg\n",
            "running egg_info\n",
            "writing slim.egg-info/PKG-INFO\n",
            "writing dependency_links to slim.egg-info/dependency_links.txt\n",
            "writing requirements to slim.egg-info/requires.txt\n",
            "writing top-level names to slim.egg-info/top_level.txt\n",
            "reading manifest file 'slim.egg-info/SOURCES.txt'\n",
            "writing manifest file 'slim.egg-info/SOURCES.txt'\n",
            "installing library code to build/bdist.linux-x86_64/egg\n",
            "running install_lib\n",
            "running build_py\n",
            "creating build/bdist.linux-x86_64\n",
            "creating build/bdist.linux-x86_64/egg\n",
            "creating build/bdist.linux-x86_64/egg/deployment\n",
            "copying build/lib/deployment/model_deploy_test.py -> build/bdist.linux-x86_64/egg/deployment\n",
            "copying build/lib/deployment/__init__.py -> build/bdist.linux-x86_64/egg/deployment\n",
            "copying build/lib/deployment/model_deploy.py -> build/bdist.linux-x86_64/egg/deployment\n",
            "creating build/bdist.linux-x86_64/egg/nets\n",
            "copying build/lib/nets/post_training_quantization.py -> build/bdist.linux-x86_64/egg/nets\n",
            "copying build/lib/nets/inception_v4_test.py -> build/bdist.linux-x86_64/egg/nets\n",
            "creating build/bdist.linux-x86_64/egg/nets/nasnet\n",
            "copying build/lib/nets/nasnet/nasnet_utils_test.py -> build/bdist.linux-x86_64/egg/nets/nasnet\n",
            "copying build/lib/nets/nasnet/__init__.py -> build/bdist.linux-x86_64/egg/nets/nasnet\n",
            "copying build/lib/nets/nasnet/nasnet.py -> build/bdist.linux-x86_64/egg/nets/nasnet\n",
            "copying build/lib/nets/nasnet/nasnet_test.py -> build/bdist.linux-x86_64/egg/nets/nasnet\n",
            "copying build/lib/nets/nasnet/nasnet_utils.py -> build/bdist.linux-x86_64/egg/nets/nasnet\n",
            "copying build/lib/nets/nasnet/pnasnet_test.py -> build/bdist.linux-x86_64/egg/nets/nasnet\n",
            "copying build/lib/nets/nasnet/pnasnet.py -> build/bdist.linux-x86_64/egg/nets/nasnet\n",
            "copying build/lib/nets/overfeat.py -> build/bdist.linux-x86_64/egg/nets\n",
            "copying build/lib/nets/mobilenet_v1_eval.py -> build/bdist.linux-x86_64/egg/nets\n",
            "copying build/lib/nets/mobilenet_v1_test.py -> build/bdist.linux-x86_64/egg/nets\n",
            "copying build/lib/nets/inception_v1.py -> build/bdist.linux-x86_64/egg/nets\n",
            "copying build/lib/nets/dcgan.py -> build/bdist.linux-x86_64/egg/nets\n",
            "copying build/lib/nets/resnet_v2.py -> build/bdist.linux-x86_64/egg/nets\n",
            "copying build/lib/nets/mobilenet_v1.py -> build/bdist.linux-x86_64/egg/nets\n",
            "copying build/lib/nets/inception.py -> build/bdist.linux-x86_64/egg/nets\n",
            "copying build/lib/nets/inception_v2.py -> build/bdist.linux-x86_64/egg/nets\n",
            "copying build/lib/nets/i3d.py -> build/bdist.linux-x86_64/egg/nets\n",
            "copying build/lib/nets/__init__.py -> build/bdist.linux-x86_64/egg/nets\n",
            "copying build/lib/nets/resnet_v2_test.py -> build/bdist.linux-x86_64/egg/nets\n",
            "copying build/lib/nets/inception_v4.py -> build/bdist.linux-x86_64/egg/nets\n",
            "copying build/lib/nets/dcgan_test.py -> build/bdist.linux-x86_64/egg/nets\n",
            "copying build/lib/nets/alexnet_test.py -> build/bdist.linux-x86_64/egg/nets\n",
            "copying build/lib/nets/inception_v3.py -> build/bdist.linux-x86_64/egg/nets\n",
            "copying build/lib/nets/s3dg.py -> build/bdist.linux-x86_64/egg/nets\n",
            "copying build/lib/nets/lenet.py -> build/bdist.linux-x86_64/egg/nets\n",
            "copying build/lib/nets/pix2pix_test.py -> build/bdist.linux-x86_64/egg/nets\n",
            "copying build/lib/nets/pix2pix.py -> build/bdist.linux-x86_64/egg/nets\n",
            "copying build/lib/nets/alexnet.py -> build/bdist.linux-x86_64/egg/nets\n",
            "copying build/lib/nets/inception_resnet_v2.py -> build/bdist.linux-x86_64/egg/nets\n",
            "copying build/lib/nets/cyclegan_test.py -> build/bdist.linux-x86_64/egg/nets\n",
            "copying build/lib/nets/nets_factory_test.py -> build/bdist.linux-x86_64/egg/nets\n",
            "copying build/lib/nets/resnet_v1.py -> build/bdist.linux-x86_64/egg/nets\n",
            "copying build/lib/nets/overfeat_test.py -> build/bdist.linux-x86_64/egg/nets\n",
            "copying build/lib/nets/resnet_utils.py -> build/bdist.linux-x86_64/egg/nets\n",
            "copying build/lib/nets/nets_factory.py -> build/bdist.linux-x86_64/egg/nets\n",
            "copying build/lib/nets/vgg_test.py -> build/bdist.linux-x86_64/egg/nets\n",
            "copying build/lib/nets/inception_v3_test.py -> build/bdist.linux-x86_64/egg/nets\n",
            "copying build/lib/nets/cyclegan.py -> build/bdist.linux-x86_64/egg/nets\n",
            "copying build/lib/nets/cifarnet.py -> build/bdist.linux-x86_64/egg/nets\n",
            "copying build/lib/nets/inception_v1_test.py -> build/bdist.linux-x86_64/egg/nets\n",
            "copying build/lib/nets/resnet_v1_test.py -> build/bdist.linux-x86_64/egg/nets\n",
            "copying build/lib/nets/i3d_test.py -> build/bdist.linux-x86_64/egg/nets\n",
            "copying build/lib/nets/inception_resnet_v2_test.py -> build/bdist.linux-x86_64/egg/nets\n",
            "copying build/lib/nets/mobilenet_v1_train.py -> build/bdist.linux-x86_64/egg/nets\n",
            "copying build/lib/nets/i3d_utils.py -> build/bdist.linux-x86_64/egg/nets\n",
            "copying build/lib/nets/s3dg_test.py -> build/bdist.linux-x86_64/egg/nets\n",
            "copying build/lib/nets/vgg.py -> build/bdist.linux-x86_64/egg/nets\n",
            "creating build/bdist.linux-x86_64/egg/nets/mobilenet\n",
            "copying build/lib/nets/mobilenet/mobilenet_v3.py -> build/bdist.linux-x86_64/egg/nets/mobilenet\n",
            "copying build/lib/nets/mobilenet/mobilenet_v3_test.py -> build/bdist.linux-x86_64/egg/nets/mobilenet\n",
            "copying build/lib/nets/mobilenet/mobilenet.py -> build/bdist.linux-x86_64/egg/nets/mobilenet\n",
            "copying build/lib/nets/mobilenet/__init__.py -> build/bdist.linux-x86_64/egg/nets/mobilenet\n",
            "copying build/lib/nets/mobilenet/mobilenet_v2_test.py -> build/bdist.linux-x86_64/egg/nets/mobilenet\n",
            "copying build/lib/nets/mobilenet/mobilenet_v2.py -> build/bdist.linux-x86_64/egg/nets/mobilenet\n",
            "copying build/lib/nets/mobilenet/conv_blocks.py -> build/bdist.linux-x86_64/egg/nets/mobilenet\n",
            "copying build/lib/nets/inception_v2_test.py -> build/bdist.linux-x86_64/egg/nets\n",
            "copying build/lib/nets/inception_utils.py -> build/bdist.linux-x86_64/egg/nets\n",
            "creating build/bdist.linux-x86_64/egg/preprocessing\n",
            "copying build/lib/preprocessing/lenet_preprocessing.py -> build/bdist.linux-x86_64/egg/preprocessing\n",
            "copying build/lib/preprocessing/__init__.py -> build/bdist.linux-x86_64/egg/preprocessing\n",
            "copying build/lib/preprocessing/inception_preprocessing.py -> build/bdist.linux-x86_64/egg/preprocessing\n",
            "copying build/lib/preprocessing/vgg_preprocessing.py -> build/bdist.linux-x86_64/egg/preprocessing\n",
            "copying build/lib/preprocessing/preprocessing_factory.py -> build/bdist.linux-x86_64/egg/preprocessing\n",
            "copying build/lib/preprocessing/cifarnet_preprocessing.py -> build/bdist.linux-x86_64/egg/preprocessing\n",
            "creating build/bdist.linux-x86_64/egg/datasets\n",
            "copying build/lib/datasets/flowers.py -> build/bdist.linux-x86_64/egg/datasets\n",
            "copying build/lib/datasets/process_bounding_boxes.py -> build/bdist.linux-x86_64/egg/datasets\n",
            "copying build/lib/datasets/download_and_convert_visualwakewords_lib.py -> build/bdist.linux-x86_64/egg/datasets\n",
            "copying build/lib/datasets/preprocess_imagenet_validation_data.py -> build/bdist.linux-x86_64/egg/datasets\n",
            "copying build/lib/datasets/__init__.py -> build/bdist.linux-x86_64/egg/datasets\n",
            "copying build/lib/datasets/cifar10.py -> build/bdist.linux-x86_64/egg/datasets\n",
            "copying build/lib/datasets/download_and_convert_visualwakewords.py -> build/bdist.linux-x86_64/egg/datasets\n",
            "copying build/lib/datasets/download_and_convert_flowers.py -> build/bdist.linux-x86_64/egg/datasets\n",
            "copying build/lib/datasets/download_and_convert_cifar10.py -> build/bdist.linux-x86_64/egg/datasets\n",
            "copying build/lib/datasets/build_imagenet_data.py -> build/bdist.linux-x86_64/egg/datasets\n",
            "copying build/lib/datasets/dataset_utils.py -> build/bdist.linux-x86_64/egg/datasets\n",
            "copying build/lib/datasets/download_and_convert_mnist.py -> build/bdist.linux-x86_64/egg/datasets\n",
            "copying build/lib/datasets/mnist.py -> build/bdist.linux-x86_64/egg/datasets\n",
            "copying build/lib/datasets/visualwakewords.py -> build/bdist.linux-x86_64/egg/datasets\n",
            "copying build/lib/datasets/imagenet.py -> build/bdist.linux-x86_64/egg/datasets\n",
            "copying build/lib/datasets/dataset_factory.py -> build/bdist.linux-x86_64/egg/datasets\n",
            "byte-compiling build/bdist.linux-x86_64/egg/deployment/model_deploy_test.py to model_deploy_test.cpython-37.pyc\n",
            "byte-compiling build/bdist.linux-x86_64/egg/deployment/__init__.py to __init__.cpython-37.pyc\n",
            "byte-compiling build/bdist.linux-x86_64/egg/deployment/model_deploy.py to model_deploy.cpython-37.pyc\n",
            "byte-compiling build/bdist.linux-x86_64/egg/nets/post_training_quantization.py to post_training_quantization.cpython-37.pyc\n",
            "byte-compiling build/bdist.linux-x86_64/egg/nets/inception_v4_test.py to inception_v4_test.cpython-37.pyc\n",
            "byte-compiling build/bdist.linux-x86_64/egg/nets/nasnet/nasnet_utils_test.py to nasnet_utils_test.cpython-37.pyc\n",
            "byte-compiling build/bdist.linux-x86_64/egg/nets/nasnet/__init__.py to __init__.cpython-37.pyc\n",
            "byte-compiling build/bdist.linux-x86_64/egg/nets/nasnet/nasnet.py to nasnet.cpython-37.pyc\n",
            "byte-compiling build/bdist.linux-x86_64/egg/nets/nasnet/nasnet_test.py to nasnet_test.cpython-37.pyc\n",
            "byte-compiling build/bdist.linux-x86_64/egg/nets/nasnet/nasnet_utils.py to nasnet_utils.cpython-37.pyc\n",
            "byte-compiling build/bdist.linux-x86_64/egg/nets/nasnet/pnasnet_test.py to pnasnet_test.cpython-37.pyc\n",
            "byte-compiling build/bdist.linux-x86_64/egg/nets/nasnet/pnasnet.py to pnasnet.cpython-37.pyc\n",
            "byte-compiling build/bdist.linux-x86_64/egg/nets/overfeat.py to overfeat.cpython-37.pyc\n",
            "byte-compiling build/bdist.linux-x86_64/egg/nets/mobilenet_v1_eval.py to mobilenet_v1_eval.cpython-37.pyc\n",
            "byte-compiling build/bdist.linux-x86_64/egg/nets/mobilenet_v1_test.py to mobilenet_v1_test.cpython-37.pyc\n",
            "byte-compiling build/bdist.linux-x86_64/egg/nets/inception_v1.py to inception_v1.cpython-37.pyc\n",
            "byte-compiling build/bdist.linux-x86_64/egg/nets/dcgan.py to dcgan.cpython-37.pyc\n",
            "byte-compiling build/bdist.linux-x86_64/egg/nets/resnet_v2.py to resnet_v2.cpython-37.pyc\n",
            "byte-compiling build/bdist.linux-x86_64/egg/nets/mobilenet_v1.py to mobilenet_v1.cpython-37.pyc\n",
            "byte-compiling build/bdist.linux-x86_64/egg/nets/inception.py to inception.cpython-37.pyc\n",
            "byte-compiling build/bdist.linux-x86_64/egg/nets/inception_v2.py to inception_v2.cpython-37.pyc\n",
            "byte-compiling build/bdist.linux-x86_64/egg/nets/i3d.py to i3d.cpython-37.pyc\n",
            "byte-compiling build/bdist.linux-x86_64/egg/nets/__init__.py to __init__.cpython-37.pyc\n",
            "byte-compiling build/bdist.linux-x86_64/egg/nets/resnet_v2_test.py to resnet_v2_test.cpython-37.pyc\n",
            "byte-compiling build/bdist.linux-x86_64/egg/nets/inception_v4.py to inception_v4.cpython-37.pyc\n",
            "byte-compiling build/bdist.linux-x86_64/egg/nets/dcgan_test.py to dcgan_test.cpython-37.pyc\n",
            "byte-compiling build/bdist.linux-x86_64/egg/nets/alexnet_test.py to alexnet_test.cpython-37.pyc\n",
            "byte-compiling build/bdist.linux-x86_64/egg/nets/inception_v3.py to inception_v3.cpython-37.pyc\n",
            "byte-compiling build/bdist.linux-x86_64/egg/nets/s3dg.py to s3dg.cpython-37.pyc\n",
            "byte-compiling build/bdist.linux-x86_64/egg/nets/lenet.py to lenet.cpython-37.pyc\n",
            "byte-compiling build/bdist.linux-x86_64/egg/nets/pix2pix_test.py to pix2pix_test.cpython-37.pyc\n",
            "byte-compiling build/bdist.linux-x86_64/egg/nets/pix2pix.py to pix2pix.cpython-37.pyc\n",
            "byte-compiling build/bdist.linux-x86_64/egg/nets/alexnet.py to alexnet.cpython-37.pyc\n",
            "byte-compiling build/bdist.linux-x86_64/egg/nets/inception_resnet_v2.py to inception_resnet_v2.cpython-37.pyc\n",
            "byte-compiling build/bdist.linux-x86_64/egg/nets/cyclegan_test.py to cyclegan_test.cpython-37.pyc\n",
            "byte-compiling build/bdist.linux-x86_64/egg/nets/nets_factory_test.py to nets_factory_test.cpython-37.pyc\n",
            "byte-compiling build/bdist.linux-x86_64/egg/nets/resnet_v1.py to resnet_v1.cpython-37.pyc\n",
            "byte-compiling build/bdist.linux-x86_64/egg/nets/overfeat_test.py to overfeat_test.cpython-37.pyc\n",
            "byte-compiling build/bdist.linux-x86_64/egg/nets/resnet_utils.py to resnet_utils.cpython-37.pyc\n",
            "byte-compiling build/bdist.linux-x86_64/egg/nets/nets_factory.py to nets_factory.cpython-37.pyc\n",
            "byte-compiling build/bdist.linux-x86_64/egg/nets/vgg_test.py to vgg_test.cpython-37.pyc\n",
            "byte-compiling build/bdist.linux-x86_64/egg/nets/inception_v3_test.py to inception_v3_test.cpython-37.pyc\n",
            "byte-compiling build/bdist.linux-x86_64/egg/nets/cyclegan.py to cyclegan.cpython-37.pyc\n",
            "byte-compiling build/bdist.linux-x86_64/egg/nets/cifarnet.py to cifarnet.cpython-37.pyc\n",
            "byte-compiling build/bdist.linux-x86_64/egg/nets/inception_v1_test.py to inception_v1_test.cpython-37.pyc\n",
            "byte-compiling build/bdist.linux-x86_64/egg/nets/resnet_v1_test.py to resnet_v1_test.cpython-37.pyc\n",
            "byte-compiling build/bdist.linux-x86_64/egg/nets/i3d_test.py to i3d_test.cpython-37.pyc\n",
            "byte-compiling build/bdist.linux-x86_64/egg/nets/inception_resnet_v2_test.py to inception_resnet_v2_test.cpython-37.pyc\n",
            "byte-compiling build/bdist.linux-x86_64/egg/nets/mobilenet_v1_train.py to mobilenet_v1_train.cpython-37.pyc\n",
            "byte-compiling build/bdist.linux-x86_64/egg/nets/i3d_utils.py to i3d_utils.cpython-37.pyc\n",
            "byte-compiling build/bdist.linux-x86_64/egg/nets/s3dg_test.py to s3dg_test.cpython-37.pyc\n",
            "byte-compiling build/bdist.linux-x86_64/egg/nets/vgg.py to vgg.cpython-37.pyc\n",
            "byte-compiling build/bdist.linux-x86_64/egg/nets/mobilenet/mobilenet_v3.py to mobilenet_v3.cpython-37.pyc\n",
            "byte-compiling build/bdist.linux-x86_64/egg/nets/mobilenet/mobilenet_v3_test.py to mobilenet_v3_test.cpython-37.pyc\n",
            "byte-compiling build/bdist.linux-x86_64/egg/nets/mobilenet/mobilenet.py to mobilenet.cpython-37.pyc\n",
            "byte-compiling build/bdist.linux-x86_64/egg/nets/mobilenet/__init__.py to __init__.cpython-37.pyc\n",
            "byte-compiling build/bdist.linux-x86_64/egg/nets/mobilenet/mobilenet_v2_test.py to mobilenet_v2_test.cpython-37.pyc\n",
            "byte-compiling build/bdist.linux-x86_64/egg/nets/mobilenet/mobilenet_v2.py to mobilenet_v2.cpython-37.pyc\n",
            "byte-compiling build/bdist.linux-x86_64/egg/nets/mobilenet/conv_blocks.py to conv_blocks.cpython-37.pyc\n",
            "byte-compiling build/bdist.linux-x86_64/egg/nets/inception_v2_test.py to inception_v2_test.cpython-37.pyc\n",
            "byte-compiling build/bdist.linux-x86_64/egg/nets/inception_utils.py to inception_utils.cpython-37.pyc\n",
            "byte-compiling build/bdist.linux-x86_64/egg/preprocessing/lenet_preprocessing.py to lenet_preprocessing.cpython-37.pyc\n",
            "byte-compiling build/bdist.linux-x86_64/egg/preprocessing/__init__.py to __init__.cpython-37.pyc\n",
            "byte-compiling build/bdist.linux-x86_64/egg/preprocessing/inception_preprocessing.py to inception_preprocessing.cpython-37.pyc\n",
            "byte-compiling build/bdist.linux-x86_64/egg/preprocessing/vgg_preprocessing.py to vgg_preprocessing.cpython-37.pyc\n",
            "byte-compiling build/bdist.linux-x86_64/egg/preprocessing/preprocessing_factory.py to preprocessing_factory.cpython-37.pyc\n",
            "byte-compiling build/bdist.linux-x86_64/egg/preprocessing/cifarnet_preprocessing.py to cifarnet_preprocessing.cpython-37.pyc\n",
            "byte-compiling build/bdist.linux-x86_64/egg/datasets/flowers.py to flowers.cpython-37.pyc\n",
            "byte-compiling build/bdist.linux-x86_64/egg/datasets/process_bounding_boxes.py to process_bounding_boxes.cpython-37.pyc\n",
            "byte-compiling build/bdist.linux-x86_64/egg/datasets/download_and_convert_visualwakewords_lib.py to download_and_convert_visualwakewords_lib.cpython-37.pyc\n",
            "byte-compiling build/bdist.linux-x86_64/egg/datasets/preprocess_imagenet_validation_data.py to preprocess_imagenet_validation_data.cpython-37.pyc\n",
            "byte-compiling build/bdist.linux-x86_64/egg/datasets/__init__.py to __init__.cpython-37.pyc\n",
            "byte-compiling build/bdist.linux-x86_64/egg/datasets/cifar10.py to cifar10.cpython-37.pyc\n",
            "byte-compiling build/bdist.linux-x86_64/egg/datasets/download_and_convert_visualwakewords.py to download_and_convert_visualwakewords.cpython-37.pyc\n",
            "byte-compiling build/bdist.linux-x86_64/egg/datasets/download_and_convert_flowers.py to download_and_convert_flowers.cpython-37.pyc\n",
            "byte-compiling build/bdist.linux-x86_64/egg/datasets/download_and_convert_cifar10.py to download_and_convert_cifar10.cpython-37.pyc\n",
            "byte-compiling build/bdist.linux-x86_64/egg/datasets/build_imagenet_data.py to build_imagenet_data.cpython-37.pyc\n",
            "byte-compiling build/bdist.linux-x86_64/egg/datasets/dataset_utils.py to dataset_utils.cpython-37.pyc\n",
            "byte-compiling build/bdist.linux-x86_64/egg/datasets/download_and_convert_mnist.py to download_and_convert_mnist.cpython-37.pyc\n",
            "byte-compiling build/bdist.linux-x86_64/egg/datasets/mnist.py to mnist.cpython-37.pyc\n",
            "byte-compiling build/bdist.linux-x86_64/egg/datasets/visualwakewords.py to visualwakewords.cpython-37.pyc\n",
            "byte-compiling build/bdist.linux-x86_64/egg/datasets/imagenet.py to imagenet.cpython-37.pyc\n",
            "byte-compiling build/bdist.linux-x86_64/egg/datasets/dataset_factory.py to dataset_factory.cpython-37.pyc\n",
            "creating build/bdist.linux-x86_64/egg/EGG-INFO\n",
            "copying slim.egg-info/PKG-INFO -> build/bdist.linux-x86_64/egg/EGG-INFO\n",
            "copying slim.egg-info/SOURCES.txt -> build/bdist.linux-x86_64/egg/EGG-INFO\n",
            "copying slim.egg-info/dependency_links.txt -> build/bdist.linux-x86_64/egg/EGG-INFO\n",
            "copying slim.egg-info/requires.txt -> build/bdist.linux-x86_64/egg/EGG-INFO\n",
            "copying slim.egg-info/top_level.txt -> build/bdist.linux-x86_64/egg/EGG-INFO\n",
            "zip_safe flag not set; analyzing archive contents...\n",
            "creating dist\n",
            "creating 'dist/slim-0.1-py3.7.egg' and adding 'build/bdist.linux-x86_64/egg' to it\n",
            "removing 'build/bdist.linux-x86_64/egg' (and everything under it)\n",
            "Processing slim-0.1-py3.7.egg\n",
            "Copying slim-0.1-py3.7.egg to /usr/local/lib/python3.7/dist-packages\n",
            "Adding slim 0.1 to easy-install.pth file\n",
            "\n",
            "Installed /usr/local/lib/python3.7/dist-packages/slim-0.1-py3.7.egg\n",
            "Processing dependencies for slim==0.1\n",
            "Searching for tf-slim>=1.1\n",
            "Reading https://pypi.org/simple/tf-slim/\n",
            "Downloading https://files.pythonhosted.org/packages/02/97/b0f4a64df018ca018cc035d44f2ef08f91e2e8aa67271f6f19633a015ff7/tf_slim-1.1.0-py2.py3-none-any.whl#sha256=fa2bab63b3925bd42601102e7f178dce997f525742596bf404fa8a6918e146ff\n",
            "Best match: tf-slim 1.1.0\n",
            "Processing tf_slim-1.1.0-py2.py3-none-any.whl\n",
            "Installing tf_slim-1.1.0-py2.py3-none-any.whl to /usr/local/lib/python3.7/dist-packages\n",
            "Adding tf-slim 1.1.0 to easy-install.pth file\n",
            "\n",
            "Installed /usr/local/lib/python3.7/dist-packages/tf_slim-1.1.0-py3.7.egg\n",
            "Searching for six==1.15.0\n",
            "Best match: six 1.15.0\n",
            "Adding six 1.15.0 to easy-install.pth file\n",
            "\n",
            "Using /usr/local/lib/python3.7/dist-packages\n",
            "Searching for absl-py==0.12.0\n",
            "Best match: absl-py 0.12.0\n",
            "Adding absl-py 0.12.0 to easy-install.pth file\n",
            "\n",
            "Using /usr/local/lib/python3.7/dist-packages\n",
            "Finished processing dependencies for slim==0.1\n"
          ],
          "name": "stdout"
        }
      ]
    },
    {
      "cell_type": "markdown",
      "metadata": {
        "id": "nyVoEWI_juSr"
      },
      "source": [
        "Run Code below to check if all we need for the training has been installed."
      ]
    },
    {
      "cell_type": "code",
      "metadata": {
        "id": "Q20GGC2ibcLW",
        "colab": {
          "base_uri": "https://localhost:8080/"
        },
        "outputId": "d2d97241-0642-4e92-bd04-56644d0cdb26"
      },
      "source": [
        "%cd /content/object_detection/builders/\n",
        "!python ./model_builder_tf1_test.py"
      ],
      "execution_count": null,
      "outputs": [
        {
          "output_type": "stream",
          "text": [
            "/content/object_detection/builders\n",
            "Running tests under Python 3.7.10: /usr/bin/python3\n",
            "[ RUN      ] ModelBuilderTF1Test.test_create_context_rcnn_from_config_with_params0 (True)\n",
            "[       OK ] ModelBuilderTF1Test.test_create_context_rcnn_from_config_with_params0 (True)\n",
            "[ RUN      ] ModelBuilderTF1Test.test_create_context_rcnn_from_config_with_params1 (False)\n",
            "[       OK ] ModelBuilderTF1Test.test_create_context_rcnn_from_config_with_params1 (False)\n",
            "[ RUN      ] ModelBuilderTF1Test.test_create_experimental_model\n",
            "[       OK ] ModelBuilderTF1Test.test_create_experimental_model\n",
            "[ RUN      ] ModelBuilderTF1Test.test_create_faster_rcnn_from_config_with_crop_feature0 (True)\n",
            "[       OK ] ModelBuilderTF1Test.test_create_faster_rcnn_from_config_with_crop_feature0 (True)\n",
            "[ RUN      ] ModelBuilderTF1Test.test_create_faster_rcnn_from_config_with_crop_feature1 (False)\n",
            "[       OK ] ModelBuilderTF1Test.test_create_faster_rcnn_from_config_with_crop_feature1 (False)\n",
            "[ RUN      ] ModelBuilderTF1Test.test_create_faster_rcnn_model_from_config_with_example_miner\n",
            "[       OK ] ModelBuilderTF1Test.test_create_faster_rcnn_model_from_config_with_example_miner\n",
            "[ RUN      ] ModelBuilderTF1Test.test_create_faster_rcnn_models_from_config_faster_rcnn_with_matmul\n",
            "[       OK ] ModelBuilderTF1Test.test_create_faster_rcnn_models_from_config_faster_rcnn_with_matmul\n",
            "[ RUN      ] ModelBuilderTF1Test.test_create_faster_rcnn_models_from_config_faster_rcnn_without_matmul\n",
            "[       OK ] ModelBuilderTF1Test.test_create_faster_rcnn_models_from_config_faster_rcnn_without_matmul\n",
            "[ RUN      ] ModelBuilderTF1Test.test_create_faster_rcnn_models_from_config_mask_rcnn_with_matmul\n",
            "[       OK ] ModelBuilderTF1Test.test_create_faster_rcnn_models_from_config_mask_rcnn_with_matmul\n",
            "[ RUN      ] ModelBuilderTF1Test.test_create_faster_rcnn_models_from_config_mask_rcnn_without_matmul\n",
            "[       OK ] ModelBuilderTF1Test.test_create_faster_rcnn_models_from_config_mask_rcnn_without_matmul\n",
            "[ RUN      ] ModelBuilderTF1Test.test_create_rfcn_model_from_config\n",
            "[       OK ] ModelBuilderTF1Test.test_create_rfcn_model_from_config\n",
            "[ RUN      ] ModelBuilderTF1Test.test_create_ssd_fpn_model_from_config\n",
            "[       OK ] ModelBuilderTF1Test.test_create_ssd_fpn_model_from_config\n",
            "[ RUN      ] ModelBuilderTF1Test.test_create_ssd_models_from_config\n",
            "[       OK ] ModelBuilderTF1Test.test_create_ssd_models_from_config\n",
            "[ RUN      ] ModelBuilderTF1Test.test_invalid_faster_rcnn_batchnorm_update\n",
            "[       OK ] ModelBuilderTF1Test.test_invalid_faster_rcnn_batchnorm_update\n",
            "[ RUN      ] ModelBuilderTF1Test.test_invalid_first_stage_nms_iou_threshold\n",
            "[       OK ] ModelBuilderTF1Test.test_invalid_first_stage_nms_iou_threshold\n",
            "[ RUN      ] ModelBuilderTF1Test.test_invalid_model_config_proto\n",
            "[       OK ] ModelBuilderTF1Test.test_invalid_model_config_proto\n",
            "[ RUN      ] ModelBuilderTF1Test.test_invalid_second_stage_batch_size\n",
            "[       OK ] ModelBuilderTF1Test.test_invalid_second_stage_batch_size\n",
            "[ RUN      ] ModelBuilderTF1Test.test_session\n",
            "[  SKIPPED ] ModelBuilderTF1Test.test_session\n",
            "[ RUN      ] ModelBuilderTF1Test.test_unknown_faster_rcnn_feature_extractor\n",
            "[       OK ] ModelBuilderTF1Test.test_unknown_faster_rcnn_feature_extractor\n",
            "[ RUN      ] ModelBuilderTF1Test.test_unknown_meta_architecture\n",
            "[       OK ] ModelBuilderTF1Test.test_unknown_meta_architecture\n",
            "[ RUN      ] ModelBuilderTF1Test.test_unknown_ssd_feature_extractor\n",
            "[       OK ] ModelBuilderTF1Test.test_unknown_ssd_feature_extractor\n",
            "----------------------------------------------------------------------\n",
            "Ran 21 tests in 0.291s\n",
            "\n",
            "OK (skipped=1)\n"
          ],
          "name": "stdout"
        }
      ]
    },
    {
      "cell_type": "markdown",
      "metadata": {
        "id": "qmsHVmXbdW0H"
      },
      "source": [
        "Clone my own repo to get\n",
        "\n",
        "*   a python script to converter dataset FROM CSV FORMAT TO TFRECORD FORMAT\n",
        "*   labels.pbtxt\n",
        "*   network.config (mobilnet_ssd_v1 modified config file) \n"
      ]
    },
    {
      "cell_type": "markdown",
      "metadata": {
        "id": "H3JAmfij8Q35"
      },
      "source": [
        "**Warning** you need to modify *labels.pbtxt* and *network.config*(optionally) according to your dataset."
      ]
    },
    {
      "cell_type": "code",
      "metadata": {
        "id": "BrhNTWHv_Wn4",
        "colab": {
          "base_uri": "https://localhost:8080/"
        },
        "outputId": "87a68cf3-b5c7-4e6f-d247-d200fb98289c"
      },
      "source": [
        "%cd /content/object_detection/\n",
        "%mkdir training\n",
        "%rm -rf object_detection_ssd\n",
        "!git clone https://github.com/P-damicis/object_detection_ssd.git\n",
        "!mv object_detection_ssd/generate_tfrecord.py ./\n",
        "!mv object_detection_ssd/network.config training/\n",
        "!mv object_detection_ssd/labels.pbtxt training/\n",
        "%rm -rf object_detection_ssd"
      ],
      "execution_count": null,
      "outputs": [
        {
          "output_type": "stream",
          "text": [
            "/content/object_detection\n",
            "Cloning into 'Sistemi_Digitali_M'...\n",
            "remote: Enumerating objects: 36, done.\u001b[K\n",
            "remote: Counting objects: 100% (36/36), done.\u001b[K\n",
            "remote: Compressing objects: 100% (29/29), done.\u001b[K\n",
            "remote: Total 36 (delta 13), reused 16 (delta 3), pack-reused 0\u001b[K\n",
            "Unpacking objects: 100% (36/36), done.\n"
          ],
          "name": "stdout"
        }
      ]
    },
    {
      "cell_type": "markdown",
      "metadata": {
        "id": "44iiNBNKd9UO"
      },
      "source": [
        "Import your own dataset from roboflow.com in CSV format.\n",
        "\n",
        "*** If you import it in TFRECORD format it will not necessary run generate_tfrecord.py"
      ]
    },
    {
      "cell_type": "code",
      "metadata": {
        "id": "Q0aPIrrc8g0Q"
      },
      "source": [
        "%cd /content/object_detection\n",
        "%mkdir Images\n",
        "%cd Images\n",
        "!curl -L \"YOUR DOWNLOAD LINK FROM ROBOFLOW.COM\" > roboflow.zip; unzip roboflow.zip; rm roboflow.zip\n",
        "%rm -rf valid\n",
        "!mv train/_annotations.csv ../data/train_labels.csv\n",
        "!mv test/_annotations.csv ../data/test_labels.csv\n"
      ],
      "execution_count": null,
      "outputs": []
    },
    {
      "cell_type": "markdown",
      "metadata": {
        "id": "_gxb4WS0j70_"
      },
      "source": [
        "###Conversion to obtain **tfrecord**"
      ]
    },
    {
      "cell_type": "code",
      "metadata": {
        "id": "ZlfWKJUjAYzL"
      },
      "source": [
        "%cd /content/object_detection/\n",
        "\n",
        "# Create train data:\n",
        "!python generate_tfrecord.py \\\n",
        "--label='YOUR_CLASS_NAME' \\\n",
        "--csv_input=data/train_labels.csv \\\n",
        "--img_path=Images/train \\\n",
        "--output_path=data/train.record\n",
        "\n",
        "# Create test data:\n",
        "!python generate_tfrecord.py \\\n",
        "--label='YOUR_CLASS_NAME' \\\n",
        "--csv_input=data/test_labels.csv \\\n",
        "--img_path=Images/test \\\n",
        "--output_path=data/test.record\n"
      ],
      "execution_count": null,
      "outputs": []
    },
    {
      "cell_type": "markdown",
      "metadata": {
        "id": "PjD-Lcw7mzeY"
      },
      "source": [
        "Note: train.py is in legacy folder"
      ]
    },
    {
      "cell_type": "markdown",
      "metadata": {
        "id": "yP2p-7RvggAL"
      },
      "source": [
        "#**TRAINING**"
      ]
    },
    {
      "cell_type": "code",
      "metadata": {
        "id": "5mX4HCgLKbnU"
      },
      "source": [
        "%cd /content/object_detection/legacy/\n",
        "!python train.py \\\n",
        "--logtostderr \\\n",
        "--train_dir=../training/checkpoints/ \\\n",
        "--pipeline_config_path=../training/network.config"
      ],
      "execution_count": null,
      "outputs": []
    },
    {
      "cell_type": "markdown",
      "metadata": {
        "id": "gb_e0zAKnKbY"
      },
      "source": [
        "##Exporting inference graph from trained checkpoint "
      ]
    },
    {
      "cell_type": "code",
      "metadata": {
        "id": "CIPzqvfp9yCp",
        "colab": {
          "base_uri": "https://localhost:8080/"
        },
        "outputId": "873c48de-3fbd-413f-a166-c6e970d1418f"
      },
      "source": [
        "%cd /content/object_detection/training/checkpoints/\n",
        "%ls"
      ],
      "execution_count": null,
      "outputs": [
        {
          "output_type": "stream",
          "text": [
            "/content/object_detection/training/checkpoints\n",
            "checkpoint                                   model.ckpt-0.index\n",
            "events.out.tfevents.1618300831.f28faaecdca4  model.ckpt-0.meta\n",
            "graph.pbtxt                                  pipeline.config\n",
            "model.ckpt-0.data-00000-of-00001\n"
          ],
          "name": "stdout"
        }
      ]
    },
    {
      "cell_type": "markdown",
      "metadata": {
        "id": "axrGddSvM5R3"
      },
      "source": [
        "Save inference graph\n"
      ]
    },
    {
      "cell_type": "code",
      "metadata": {
        "id": "RYX4Ixm8DINT"
      },
      "source": [
        "%cd /content/object_detection/\n",
        "\n",
        "!python export_inference_graph.py \\\n",
        "--input_type image_tensor \\\n",
        "--pipeline_config_path training/network.config \\\n",
        "--trained_checkpoint_prefix training/checkpoints/model.ckpt-15000 \\\n",
        "--output_directory trained_inference_graph/"
      ],
      "execution_count": null,
      "outputs": []
    },
    {
      "cell_type": "markdown",
      "metadata": {
        "id": "_00I0EAaWGCd"
      },
      "source": [
        "##Preparing to TFLite Conversion"
      ]
    },
    {
      "cell_type": "code",
      "metadata": {
        "id": "oPXfJ0iWG8Fz"
      },
      "source": [
        "import tensorflow as tf"
      ],
      "execution_count": null,
      "outputs": []
    },
    {
      "cell_type": "code",
      "metadata": {
        "id": "gp_58GRNqvQI"
      },
      "source": [
        "%cd /content/object_detection\n",
        "\n",
        "!python export_tflite_ssd_graph.py \\\n",
        "--pipeline_config_path training/network.config \\\n",
        "--trained_checkpoint_prefix trained_inference_graph/model.ckpt \\\n",
        "--output_directory /content/tflite \\\n",
        "--add_postprocessing_op false \\\n",
        "--max_detections 1 \\\n"
      ],
      "execution_count": null,
      "outputs": []
    },
    {
      "cell_type": "markdown",
      "metadata": {
        "id": "_evP5foVqpLI"
      },
      "source": [
        "#**Conversion to TFlite Model**"
      ]
    },
    {
      "cell_type": "code",
      "metadata": {
        "id": "1KcxFa9EXIKE"
      },
      "source": [
        "!pip install tensorflow==2.1.0\n",
        "!pip install tf-nightly\n",
        "import tensorflow as tf"
      ],
      "execution_count": null,
      "outputs": []
    },
    {
      "cell_type": "markdown",
      "metadata": {
        "id": "QH65w522ew7-"
      },
      "source": [
        "if we want to quantize int8 we have to create the function *representative_dataset* that is required by the converter.\n",
        "\n",
        "This function provides a sample of images taken from the train set"
      ]
    },
    {
      "cell_type": "code",
      "metadata": {
        "id": "RjsbsEwUWUZl"
      },
      "source": [
        "import numpy as np\n",
        "import tensorflow as tf\n",
        "import os\n",
        "import matplotlib.pyplot as plt\n",
        "\n",
        "def representative_dataset():\n",
        "  imagespath = \"/content/object_detection/Images/train/\"\n",
        "  for file in os.listdir(imagespath):\n",
        "    data = plt.imread(imagespath+file)\n",
        "    data = np.expand_dims(data, axis=0)\n",
        "    yield [data.astype(np.float32)]\n",
        "\n",
        "tf.__version__"
      ],
      "execution_count": null,
      "outputs": []
    },
    {
      "cell_type": "markdown",
      "metadata": {
        "id": "-v6nWenUgzXx"
      },
      "source": [
        "Creating TFLite converter to convert our frozen graph.\n",
        "You need to know the name of input and output node of the graph."
      ]
    },
    {
      "cell_type": "code",
      "metadata": {
        "id": "B-Im8WKUWaKs"
      },
      "source": [
        "import tensorflow as tf\n",
        "localpb = '/content/tflite/NAME_OF_FROZEN_GRAPH.pb'\n",
        "tflite_file = '/content/NAME_OF_TFLITE_MODEL.tflite'\n",
        "converter = tf.compat.v1.lite.TFLiteConverter.from_frozen_graph(\n",
        "  localpb, \n",
        "  ['INPUT_NODE_NAME'], \n",
        "  ['OUTPUT_NODE_NAME'],\n",
        "  input_shapes={\"INPUT_NODE_NAME\" : [1, 416, 416, 3]}\n",
        ")\n",
        "converter.experimental_new_converter = True\n",
        "converter.allow_custom_ops = True\n",
        "\n",
        "######  NO QUANTIZATION ######\n",
        "#converter.target_spec.supported_ops = [tf.lite.OpsSet.TFLITE_BUILTINS,\n",
        "#                                       tf.lite.OpsSet.SELECT_TF_OPS]\n",
        "\n",
        "######  INT 8    ######\n",
        "converter.target_spec.supported_ops = [tf.lite.OpsSet.SELECT_TF_OPS,\n",
        "                                      tf.lite.OpsSet.TFLITE_BUILTINS_INT8]\n",
        "\n",
        "converter.optimizations = [tf.lite.Optimize.OPTIMIZE_FOR_SIZE]\n",
        "converter.representative_dataset = representative_dataset\n",
        "\n",
        "tflite_model = converter.convert()\n",
        "open(tflite_file,'wb').write(tflite_model)"
      ],
      "execution_count": null,
      "outputs": []
    }
  ]
}
