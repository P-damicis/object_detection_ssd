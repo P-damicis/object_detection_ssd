{
  "nbformat": 4,
  "nbformat_minor": 0,
  "metadata": {
    "accelerator": "GPU",
    "colab": {
      "name": "MobileNet_ssd_Object_Detection(final).ipynb",
      "provenance": [],
      "collapsed_sections": [],
      "toc_visible": true,
      "machine_shape": "hm"
    },
    "kernelspec": {
      "display_name": "Python 3",
      "name": "python3"
    }
  },
  "cells": [
    {
      "cell_type": "markdown",
      "metadata": {
        "id": "fCAFHcAz1vh9"
      },
      "source": [
        "#**Sistemi Digitali M 2020/21 - UNIBO** \n",
        "##by Pier Domenico d'Amicis"
      ]
    },
    {
      "cell_type": "code",
      "metadata": {
        "colab": {
          "base_uri": "https://localhost:8080/"
        },
        "id": "EtzbD7bGIZYF",
        "outputId": "0b27d82e-deb6-4e69-b502-9f2730230aa6"
      },
      "source": [
        "%tensorflow_version 1.x"
      ],
      "execution_count": null,
      "outputs": [
        {
          "output_type": "stream",
          "text": [
            "TensorFlow 1.x selected.\n"
          ],
          "name": "stdout"
        }
      ]
    },
    {
      "cell_type": "markdown",
      "metadata": {
        "id": "xe0B5UXuhZWa"
      },
      "source": [
        "For the code cell below you should see ‘Found GPU’ and tf version 1.x.\n",
        "Remember to change runtime to GPU"
      ]
    },
    {
      "cell_type": "code",
      "metadata": {
        "colab": {
          "base_uri": "https://localhost:8080/"
        },
        "id": "K5blGTazUTft",
        "outputId": "998d3513-4487-4d23-d266-72e105f81060"
      },
      "source": [
        "import tensorflow as tf\n",
        "device_name = tf.test.gpu_device_name()\n",
        "if device_name != '/device:GPU:0':\n",
        "   raise SystemError('GPU device not found')\n",
        "print('Found GPU at: {}'.format(device_name))\n",
        "print(tf.__version__)"
      ],
      "execution_count": null,
      "outputs": [
        {
          "output_type": "stream",
          "text": [
            "Found GPU at: /device:GPU:0\n",
            "1.15.2\n"
          ],
          "name": "stdout"
        }
      ]
    },
    {
      "cell_type": "markdown",
      "metadata": {
        "id": "G2mRk4Mbiwgs"
      },
      "source": [
        "Clone the Tensorflow API repo"
      ]
    },
    {
      "cell_type": "code",
      "metadata": {
        "colab": {
          "base_uri": "https://localhost:8080/"
        },
        "id": "hVZekwLaVXEq",
        "outputId": "8f753407-bc92-49bb-8b95-37ca276e7bb8"
      },
      "source": [
        "!git clone https://github.com/tensorflow/models.git"
      ],
      "execution_count": null,
      "outputs": [
        {
          "output_type": "stream",
          "text": [
            "Cloning into 'models'...\n",
            "remote: Enumerating objects: 870, done.\u001b[K\n",
            "remote: Counting objects: 100% (870/870), done.\u001b[K\n",
            "remote: Compressing objects: 100% (540/540), done.\u001b[K\n",
            "remote: Total 54862 (delta 412), reused 721 (delta 315), pack-reused 53992\u001b[K\n",
            "Receiving objects: 100% (54862/54862), 571.32 MiB | 26.62 MiB/s, done.\n",
            "Resolving deltas: 100% (37496/37496), done.\n"
          ],
          "name": "stdout"
        }
      ]
    },
    {
      "cell_type": "markdown",
      "metadata": {
        "id": "Dro4CRIRi72C"
      },
      "source": [
        "Install some needed tools and dependencies."
      ]
    },
    {
      "cell_type": "code",
      "metadata": {
        "colab": {
          "base_uri": "https://localhost:8080/"
        },
        "id": "OYQtd7VnwPsj",
        "outputId": "88f9720c-d33d-4de8-eb6b-2c286f631830"
      },
      "source": [
        "%cd \"/content/models/research\"\n",
        "!mv object_detection/ /content/\n",
        "!mv slim/ /content/\n",
        "%cd \"/content\"\n",
        "%rm -rf models"
      ],
      "execution_count": null,
      "outputs": [
        {
          "output_type": "stream",
          "text": [
            "/content/models/research\n",
            "/content\n"
          ],
          "name": "stdout"
        }
      ]
    },
    {
      "cell_type": "code",
      "metadata": {
        "colab": {
          "background_save": true
        },
        "id": "0zmVdivOVW8x"
      },
      "source": [
        "!apt-get install protobuf-compiler python-pil python-lxml python-tk\n",
        "!pip install Cython"
      ],
      "execution_count": null,
      "outputs": []
    },
    {
      "cell_type": "code",
      "metadata": {
        "colab": {
          "background_save": true
        },
        "id": "fgshHq3dVW2J",
        "outputId": "13db9558-7eda-44f8-f012-771d7ab5a2a8"
      },
      "source": [
        "%cd /content/\n",
        "!protoc object_detection/protos/*.proto --python_out=."
      ],
      "execution_count": null,
      "outputs": [
        {
          "output_type": "stream",
          "text": [
            "/content\n"
          ],
          "name": "stdout"
        }
      ]
    },
    {
      "cell_type": "code",
      "metadata": {
        "colab": {
          "background_save": true
        },
        "id": "ZMlRrzpVVWys",
        "outputId": "350ddfb1-7883-4833-a264-d626014266e6"
      },
      "source": [
        "import os\n",
        "os.environ['PYTHONPATH'] += ':/content/:/content/slim'\n",
        "%cd /content/slim"
      ],
      "execution_count": null,
      "outputs": [
        {
          "output_type": "stream",
          "text": [
            "/content/slim\n"
          ],
          "name": "stdout"
        }
      ]
    },
    {
      "cell_type": "markdown",
      "metadata": {
        "id": "HQlUBRt2i-z8"
      },
      "source": [
        "Always run the cell below for every session restart"
      ]
    },
    {
      "cell_type": "code",
      "metadata": {
        "id": "uSTazdeuVWb0"
      },
      "source": [
        "!python setup.py build\n",
        "!python setup.py install"
      ],
      "execution_count": null,
      "outputs": []
    },
    {
      "cell_type": "markdown",
      "metadata": {
        "id": "nyVoEWI_juSr"
      },
      "source": [
        "Run Code below to check if all we need for the training has been installed."
      ]
    },
    {
      "cell_type": "code",
      "metadata": {
        "id": "Q20GGC2ibcLW"
      },
      "source": [
        "%cd /content/object_detection/builders/\n",
        "!python ./model_builder_tf1_test.py"
      ],
      "execution_count": null,
      "outputs": []
    },
    {
      "cell_type": "markdown",
      "metadata": {
        "id": "qmsHVmXbdW0H"
      },
      "source": [
        "Clone my own repo to get\n",
        "\n",
        "*   a python script to converter dataset to tfrecord\n",
        "*   labels.pbtxt\n",
        "*   mobilnet_ssd_v1 modified config file (network.config) \n"
      ]
    },
    {
      "cell_type": "code",
      "metadata": {
        "id": "BrhNTWHv_Wn4"
      },
      "source": [
        "%cd /content/object_detection/\n",
        "%mkdir training\n",
        "%rm -rf Sistemi_Digitali_M\n",
        "!git clone https://github.com/P-damicis/Sistemi_Digitali_M.git\n",
        "!mv Sistemi_Digitali_M/generate_tfrecord.py ./\n",
        "!mv Sistemi_Digitali_M/network.config training/\n",
        "!mv Sistemi_Digitali_M/labels.pbtxt training/\n",
        "%rm -rf Sistemi_Digitali_M"
      ],
      "execution_count": null,
      "outputs": []
    },
    {
      "cell_type": "markdown",
      "metadata": {
        "id": "44iiNBNKd9UO"
      },
      "source": [
        "Import my own dataset from roboflow.com"
      ]
    },
    {
      "cell_type": "code",
      "metadata": {
        "id": "Q0aPIrrc8g0Q"
      },
      "source": [
        "%cd /content/object_detection\n",
        "%mkdir Images\n",
        "%cd Images\n",
        "!curl -L \"https://app.roboflow.com/ds/rhLbyxam2T?key=cap0YQj8DX\" > roboflow.zip; unzip roboflow.zip; rm roboflow.zip\n",
        "%rm -rf valid\n",
        "!mv train/_annotations.csv ../data/train_labels.csv\n",
        "!mv test/_annotations.csv ../data/test_labels.csv\n"
      ],
      "execution_count": null,
      "outputs": []
    },
    {
      "cell_type": "markdown",
      "metadata": {
        "id": "_gxb4WS0j70_"
      },
      "source": [
        "###Conversion to obtain **tfrecord**"
      ]
    },
    {
      "cell_type": "code",
      "metadata": {
        "id": "ZlfWKJUjAYzL"
      },
      "source": [
        "%cd /content/object_detection/\n",
        "\n",
        "# Create train data:\n",
        "!python generate_tfrecord.py \\\n",
        "--label='Medicine-box' \\\n",
        "--csv_input=data/train_labels.csv \\\n",
        "--img_path=Images/train \\\n",
        "--output_path=data/train.record\n",
        "\n",
        "# Create test data:\n",
        "!python generate_tfrecord.py \\\n",
        "--label='Medicine-box' \\\n",
        "--csv_input=data/test_labels.csv \\\n",
        "--img_path=Images/test \\\n",
        "--output_path=data/test.record\n"
      ],
      "execution_count": null,
      "outputs": []
    },
    {
      "cell_type": "markdown",
      "metadata": {
        "id": "PjD-Lcw7mzeY"
      },
      "source": [
        "Note: train.py is in legacy folder"
      ]
    },
    {
      "cell_type": "markdown",
      "metadata": {
        "id": "yP2p-7RvggAL"
      },
      "source": [
        "#**TRAINING**"
      ]
    },
    {
      "cell_type": "code",
      "metadata": {
        "id": "5mX4HCgLKbnU"
      },
      "source": [
        "%cd /content/object_detection/legacy/\n",
        "!python train.py \\\n",
        "--logtostderr \\\n",
        "--train_dir=../training/checkpoints/ \\\n",
        "--pipeline_config_path=../training/network.config"
      ],
      "execution_count": null,
      "outputs": []
    },
    {
      "cell_type": "markdown",
      "metadata": {
        "id": "gb_e0zAKnKbY"
      },
      "source": [
        "##Exporting inference graph from trained checkpoint "
      ]
    },
    {
      "cell_type": "code",
      "metadata": {
        "id": "CIPzqvfp9yCp"
      },
      "source": [
        "%cd /content/object_detection/training/checkpoints/\n",
        "%ls"
      ],
      "execution_count": null,
      "outputs": []
    },
    {
      "cell_type": "markdown",
      "metadata": {
        "id": "axrGddSvM5R3"
      },
      "source": [
        "Save inference graph\n"
      ]
    },
    {
      "cell_type": "code",
      "metadata": {
        "id": "RYX4Ixm8DINT"
      },
      "source": [
        "%cd /content/object_detection/\n",
        "\n",
        "!python export_inference_graph.py \\\n",
        "--input_type image_tensor \\\n",
        "--pipeline_config_path training/network.config \\\n",
        "--trained_checkpoint_prefix training/checkpoints/model.ckpt-15000 \\\n",
        "--output_directory trained_inference_graph/"
      ],
      "execution_count": null,
      "outputs": []
    },
    {
      "cell_type": "markdown",
      "metadata": {
        "id": "_00I0EAaWGCd"
      },
      "source": [
        "###Preparing to TFLite Conversion"
      ]
    },
    {
      "cell_type": "code",
      "metadata": {
        "id": "oPXfJ0iWG8Fz"
      },
      "source": [
        "import tensorflow as tf"
      ],
      "execution_count": null,
      "outputs": []
    },
    {
      "cell_type": "code",
      "metadata": {
        "id": "gp_58GRNqvQI"
      },
      "source": [
        "%cd /content/object_detection\n",
        "\n",
        "!python export_tflite_ssd_graph.py \\\n",
        "--pipeline_config_path training/network.config \\\n",
        "--trained_checkpoint_prefix trained_inference_graph/model.ckpt \\\n",
        "--output_directory /content/tflite \\\n",
        "--add_postprocessing_op false \\\n",
        "--max_detections 1 \\\n"
      ],
      "execution_count": null,
      "outputs": []
    },
    {
      "cell_type": "markdown",
      "metadata": {
        "id": "_evP5foVqpLI"
      },
      "source": [
        "#**Conversion to TFlite Model**"
      ]
    },
    {
      "cell_type": "code",
      "metadata": {
        "id": "1KcxFa9EXIKE"
      },
      "source": [
        "!pip install tensorflow==2.1.0\n",
        "!pip install tf-nightly\n",
        "import tensorflow as tf"
      ],
      "execution_count": null,
      "outputs": []
    },
    {
      "cell_type": "markdown",
      "metadata": {
        "id": "QH65w522ew7-"
      },
      "source": [
        "if we want to quantize int8 we have to create the function *representative_dataset* that is required by the converter.\n",
        "\n",
        "This function provides a sample of images taken from the train set"
      ]
    },
    {
      "cell_type": "code",
      "metadata": {
        "id": "RjsbsEwUWUZl"
      },
      "source": [
        "import numpy as np\n",
        "import tensorflow as tf\n",
        "import os\n",
        "import matplotlib.pyplot as plt\n",
        "\n",
        "def representative_dataset():\n",
        "  imagespath = \"/content/object_detection/Images/train/\"\n",
        "  for file in os.listdir(imagespath):\n",
        "    data = plt.imread(imagespath+file)\n",
        "    data = np.expand_dims(data, axis=0)\n",
        "    yield [data.astype(np.float32)]\n",
        "\n",
        "tf.__version__"
      ],
      "execution_count": null,
      "outputs": []
    },
    {
      "cell_type": "markdown",
      "metadata": {
        "id": "-v6nWenUgzXx"
      },
      "source": [
        "Creating TFLite converter to convert our frozen graph."
      ]
    },
    {
      "cell_type": "code",
      "metadata": {
        "id": "B-Im8WKUWaKs"
      },
      "source": [
        "import tensorflow as tf\n",
        "localpb = '/content/tflite/tflite_graph.pb'\n",
        "tflite_file = '/content/mobilenet_int8.tflite'\n",
        "converter = tf.compat.v1.lite.TFLiteConverter.from_frozen_graph(\n",
        "  localpb, \n",
        "  ['normalized_input_image_tensor'], \n",
        "  ['TFLite_Detection_PostProcess'],\n",
        "  input_shapes={\"normalized_input_image_tensor\" : [1, 416, 416, 3]}\n",
        ")\n",
        "\n",
        "converter.experimental_new_converter = True\n",
        "converter.allow_custom_ops = True\n",
        "\n",
        "######  NO QUANTIZATION ######\n",
        "#converter.target_spec.supported_ops = [tf.lite.OpsSet.TFLITE_BUILTINS,\n",
        "#                                       tf.lite.OpsSet.SELECT_TF_OPS]\n",
        "\n",
        "\n",
        "######  INT 8    ######\n",
        "#converter.target_spec.supported_ops = [tf.lite.OpsSet.SELECT_TF_OPS,\n",
        "#                                       tf.lite.OpsSet.TFLITE_BUILTINS_INT8]\n",
        "\n",
        "converter.optimizations = [tf.lite.Optimize.OPTIMIZE_FOR_SIZE]\n",
        "converter.representative_dataset = representative_dataset\n",
        "\n",
        "#converter.inference_input_type = tf.uint8\n",
        "#converter.inference_output_type = tf.uint8\n",
        "\n",
        "tflite_model = converter.convert()\n",
        "open(tflite_file,'wb').write(tflite_model)"
      ],
      "execution_count": null,
      "outputs": []
    }
  ]
}